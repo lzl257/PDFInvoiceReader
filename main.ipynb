{
 "cells": [
  {
   "cell_type": "code",
   "execution_count": 1,
   "metadata": {},
   "outputs": [],
   "source": [
    "import os\n",
    "import re"
   ]
  },
  {
   "cell_type": "code",
   "execution_count": 2,
   "metadata": {},
   "outputs": [],
   "source": [
    "inv_no_patterns =  ['517\\.080,565\\.520,522\\.640,578\\.880', '522\\.640,565\\.520,528\\.200,578\\.880', '528\\.200,565\\.520,533\\.760,578\\.880',\n",
    "            '533\\.760,565\\.520,539\\.320,578\\.880', '539\\.320,565\\.520,544\\.880,578\\.880', '544\\.880,565\\.520,550\\.440,578\\.880',\n",
    "            '550\\.440,565\\.520,556\\.000,578\\.880']\n",
    "\n",
    "inv_date_patterns = ['503\\.770,551\\.520,508\\.770,563\\.650', '508\\.770,551\\.520,514\\.330,563\\.650', '514\\.330,551\\.520,519\\.890,563\\.650',\n",
    "                    '519\\.890,551\\.520,522\\.660,563\\.650']"
   ]
  },
  {
   "cell_type": "code",
   "execution_count": 3,
   "metadata": {},
   "outputs": [
    {
     "name": "stdout",
     "output_type": "stream",
     "text": [
      "Rechnung invoice_1102068:\n",
      "1102068\n",
      "Rechnung invoice_1101128:\n",
      "1101128\n",
      "Rechnung invoice_1102070:\n",
      "1102070\n"
     ]
    }
   ],
   "source": [
    "# File names in Rechnung directory.\n",
    "for pdf in os.listdir(\"Rechnung\"):\n",
    "    if pdf.endswith(\".pdf\"):\n",
    "        os.system(f\"pdf2txt.py -o {pdf[:-4]}.txt -t xml  Rechnung/{pdf}\")\n",
    "        with open(f\"{pdf[:-4]}.txt\", 'r') as text:\n",
    "            print(f\"Rechnung {pdf[:-4]}:\")\n",
    "            text_str = text.read()\n",
    "            inv_no = ''\n",
    "            inv_date = ''\n",
    "            for pattern in inv_no_patterns:\n",
    "                inv_no += re.findall(f'bbox=\"{pattern}\"\\ size=\"13\\.360\">([0-9])</text>', text_str)[0]\n",
    "            print(inv_no)\n",
    "            \n",
    "            \n",
    "        # Delete temp txt.\n",
    "        #os.system(f\"rm {pdf[:-4]}.txt\")"
   ]
  }
 ],
 "metadata": {
  "kernelspec": {
   "display_name": "Python 3",
   "language": "python",
   "name": "python3"
  },
  "language_info": {
   "codemirror_mode": {
    "name": "ipython",
    "version": 3
   },
   "file_extension": ".py",
   "mimetype": "text/x-python",
   "name": "python",
   "nbconvert_exporter": "python",
   "pygments_lexer": "ipython3",
   "version": "3.8.2"
  }
 },
 "nbformat": 4,
 "nbformat_minor": 4
}
