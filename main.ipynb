{
 "cells": [
  {
   "cell_type": "code",
   "execution_count": 1,
   "metadata": {
    "hide_input": false
   },
   "outputs": [],
   "source": [
    "import os\n",
    "from IPython.display import display, Markdown as md\n",
    "from ipywidgets.widgets import FileUpload,Output\n",
    "\n",
    "from readers.iaa import IAAInvReader"
   ]
  },
  {
   "cell_type": "markdown",
   "metadata": {},
   "source": [
    "## PDFInvoiceReader Beta v0.1\n",
    "\n",
    "---\n",
    "\n",
    "请上传IAA的PDF发票："
   ]
  },
  {
   "cell_type": "code",
   "execution_count": 2,
   "metadata": {
    "hide_input": false
   },
   "outputs": [
    {
     "data": {
      "application/vnd.jupyter.widget-view+json": {
       "model_id": "a8a6f728b4f34b88b2aa640b0916ff76",
       "version_major": 2,
       "version_minor": 0
      },
      "text/plain": [
       "FileUpload(value={}, accept='.pdf', description='Upload', multiple=True)"
      ]
     },
     "metadata": {},
     "output_type": "display_data"
    }
   ],
   "source": [
    "upload = FileUpload(\n",
    "    accept='.pdf',  # Accepted file extension e.g. '.txt', '.pdf', 'image/*', 'image/*,.pdf'\n",
    "    multiple=True  # True to accept multiple files upload else False\n",
    ")\n",
    "display(upload) "
   ]
  },
  {
   "cell_type": "code",
   "execution_count": 4,
   "metadata": {},
   "outputs": [
    {
     "name": "stdout",
     "output_type": "stream",
     "text": [
      "Rechnung invoice_1102068 starts\n",
      "Rechnung invoice_1102070 starts\n"
     ]
    },
    {
     "data": {
      "text/html": [
       "<div>\n",
       "<style scoped>\n",
       "    .dataframe tbody tr th:only-of-type {\n",
       "        vertical-align: middle;\n",
       "    }\n",
       "\n",
       "    .dataframe tbody tr th {\n",
       "        vertical-align: top;\n",
       "    }\n",
       "\n",
       "    .dataframe thead th {\n",
       "        text-align: right;\n",
       "    }\n",
       "</style>\n",
       "<table border=\"1\" class=\"dataframe\">\n",
       "  <thead>\n",
       "    <tr style=\"text-align: right;\">\n",
       "      <th></th>\n",
       "      <th>Invoice number</th>\n",
       "      <th>Invoice date</th>\n",
       "      <th>Invoice due date</th>\n",
       "      <th>Chargeable weight</th>\n",
       "      <th>Total amount due</th>\n",
       "    </tr>\n",
       "  </thead>\n",
       "  <tbody>\n",
       "    <tr>\n",
       "      <th>0</th>\n",
       "      <td>1102068</td>\n",
       "      <td>Jan 16, 2020</td>\n",
       "      <td>Feb 15, 2020</td>\n",
       "      <td>4,384 kg</td>\n",
       "      <td>4,176.40 EUR</td>\n",
       "    </tr>\n",
       "    <tr>\n",
       "      <th>1</th>\n",
       "      <td>1102070</td>\n",
       "      <td>Jan 16, 2020</td>\n",
       "      <td>Feb 15, 2020</td>\n",
       "      <td>2,690 kg</td>\n",
       "      <td>2,366.50 EUR</td>\n",
       "    </tr>\n",
       "  </tbody>\n",
       "</table>\n",
       "</div>"
      ],
      "text/plain": [
       "  Invoice number  Invoice date Invoice due date Chargeable weight  \\\n",
       "0        1102068  Jan 16, 2020     Feb 15, 2020          4,384 kg   \n",
       "1        1102070  Jan 16, 2020     Feb 15, 2020          2,690 kg   \n",
       "\n",
       "  Total amount due  \n",
       "0     4,176.40 EUR  \n",
       "1     2,366.50 EUR  "
      ]
     },
     "metadata": {},
     "output_type": "display_data"
    }
   ],
   "source": [
    "if upload._counter == 0:\n",
    "    display(md(\"没有文件！\"))\n",
    "else:\n",
    "    iaa_reader = IAAInvReader(upload)\n",
    "    display(iaa_reader.get_info())\n",
    "\n",
    "    # Delete works\n",
    "    upload._counter = 0\n",
    "    iaa_reader.delete()"
   ]
  }
 ],
 "metadata": {
  "kernelspec": {
   "display_name": "Python 3",
   "language": "python",
   "name": "python3"
  },
  "language_info": {
   "codemirror_mode": {
    "name": "ipython",
    "version": 3
   },
   "file_extension": ".py",
   "mimetype": "text/x-python",
   "name": "python",
   "nbconvert_exporter": "python",
   "pygments_lexer": "ipython3",
   "version": "3.8.2"
  }
 },
 "nbformat": 4,
 "nbformat_minor": 4
}
