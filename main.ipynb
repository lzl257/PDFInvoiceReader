{
 "cells": [
  {
   "cell_type": "code",
   "execution_count": 2,
   "metadata": {
    "hide_input": true,
    "init_cell": true
   },
   "outputs": [
    {
     "data": {
      "application/javascript": [
       "IPython.notebook.execute_cells_below()"
      ],
      "text/plain": [
       "<IPython.core.display.Javascript object>"
      ]
     },
     "metadata": {},
     "output_type": "display_data"
    }
   ],
   "source": [
    "from IPython.display import display, Markdown as md, clear_output, Javascript\n",
    "from ipywidgets.widgets import FileUpload, Output, Button\n",
    "\n",
    "from readers.iaa import IAAInvReader\n",
    "\n",
    "from utils.download import create_download_link\n",
    "\n",
    "display(Javascript('IPython.notebook.execute_cells_below()'))"
   ]
  },
  {
   "cell_type": "markdown",
   "metadata": {},
   "source": [
    "## PDFInvoiceReader Beta v0.3\n",
    "\n",
    "---\n",
    "\n",
    "请上传PDF发票（目前只支持IAA）："
   ]
  },
  {
   "cell_type": "code",
   "execution_count": 3,
   "metadata": {
    "hide_input": true,
    "scrolled": true
   },
   "outputs": [
    {
     "data": {
      "application/vnd.jupyter.widget-view+json": {
       "model_id": "81491900a79c4258bc10016f43117411",
       "version_major": 2,
       "version_minor": 0
      },
      "text/plain": [
       "FileUpload(value={}, accept='.pdf', description='Upload', multiple=True)"
      ]
     },
     "metadata": {},
     "output_type": "display_data"
    }
   ],
   "source": [
    "upload = FileUpload(\n",
    "    accept='.pdf',  # Accepted file extension e.g. '.txt', '.pdf', 'image/*', 'image/*,.pdf'\n",
    "    multiple=True  # True to accept multiple files upload else False\n",
    ")\n",
    "display(upload)"
   ]
  },
  {
   "cell_type": "code",
   "execution_count": 5,
   "metadata": {
    "hide_input": true,
    "scrolled": true
   },
   "outputs": [
    {
     "data": {
      "application/vnd.jupyter.widget-view+json": {
       "model_id": "f51eb472abad43c9b321a4360e33c919",
       "version_major": 2,
       "version_minor": 0
      },
      "text/plain": [
       "Button(description='提取信息/重置', style=ButtonStyle())"
      ]
     },
     "metadata": {},
     "output_type": "display_data"
    },
    {
     "data": {
      "application/vnd.jupyter.widget-view+json": {
       "model_id": "2b02eb1b252742c4a72cef5a57188582",
       "version_major": 2,
       "version_minor": 0
      },
      "text/plain": [
       "Output()"
      ]
     },
     "metadata": {},
     "output_type": "display_data"
    }
   ],
   "source": [
    "button = Button(description=\"提取信息/重置\")\n",
    "display(button)\n",
    "\n",
    "def on_click(b):\n",
    "    with out:\n",
    "        clear_output()\n",
    "        if upload._counter == 0:\n",
    "            display(md(\"没有文件！\"))\n",
    "        else:\n",
    "            iaa_reader = IAAInvReader(upload)\n",
    "            table = iaa_reader.get_info()\n",
    "            display(table)\n",
    "            display(create_download_link(table))\n",
    "\n",
    "            # Delete works\n",
    "            upload._counter = 0\n",
    "            iaa_reader.delete()\n",
    "\n",
    "out = Output()\n",
    "display(out)\n",
    "button.on_click(on_click)\n",
    "on_click(button)"
   ]
  }
 ],
 "metadata": {
  "celltoolbar": "Initialization Cell",
  "kernelspec": {
   "display_name": "Python 3",
   "language": "python",
   "name": "python3"
  },
  "language_info": {
   "codemirror_mode": {
    "name": "ipython",
    "version": 3
   },
   "file_extension": ".py",
   "mimetype": "text/x-python",
   "name": "python",
   "nbconvert_exporter": "python",
   "pygments_lexer": "ipython3",
   "version": "3.8.2"
  }
 },
 "nbformat": 4,
 "nbformat_minor": 4
}
