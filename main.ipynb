{
 "cells": [
  {
   "cell_type": "code",
   "execution_count": 1,
   "metadata": {},
   "outputs": [],
   "source": [
    "import os\n",
    "import re"
   ]
  },
  {
   "cell_type": "code",
   "execution_count": 8,
   "metadata": {},
   "outputs": [],
   "source": [
    "inv_no_patterns =  ['517\\.080,565\\.520,522\\.640,578\\.880', '522\\.640,565\\.520,528\\.200,578\\.880', '528\\.200,565\\.520,533\\.760,578\\.880',\n",
    "            '533\\.760,565\\.520,539\\.320,578\\.880', '539\\.320,565\\.520,544\\.880,578\\.880', '544\\.880,565\\.520,550\\.440,578\\.880',\n",
    "            '550\\.440,565\\.520,556\\.000,578\\.880']\n",
    "\n",
    "date_patterns = ['498\\.210,551\\.520,503\\.210,563\\.650', '503\\.210,551\\.520,508\\.770,563\\.650', \n",
    "                     '503\\.770,551\\.520,508\\.770,563\\.650', '508\\.770,551\\.520,514\\.330,563\\.650', \n",
    "                     '514\\.330,551\\.520,519\\.890,563\\.650', '517\\.100,551\\.520,522\\.660,563\\.650',\n",
    "                     '519\\.890,551\\.520,522\\.660,563\\.650', \n",
    "                     '522\\.660,551\\.520,528\\.220,563\\.650', '528\\.220,551\\.520,530\\.990,563\\.650', \n",
    "                     '530\\.990,551\\.520,533\\.760,563\\.650', '533\\.760,551\\.520,539\\.320,563\\.650', \n",
    "                     '539\\.320,551\\.520,544\\.880,563\\.650', '544\\.880,551\\.520,550\\.440,563\\.650', \n",
    "                     '550\\.440,551\\.520,556\\.000,563\\.650']\n",
    "\n",
    "due_date_patterns = ['497.110,537.520,503.210,549.650', '502.670,537.520,508.770,549.650',\n",
    "                        '503.210,537.520,508.770,549.650', '508.770,537.520,514.330,549.650',\n",
    "                        '514.330,537.520,519.890,549.650', '517.100,537.520,522.660,549.650',\n",
    "                        '519.890,537.520,522.660,549.650',\n",
    "                        '522.660,537.520,528.220,549.650', '528.220,537.520,530.990,549.650',\n",
    "                        '530.990,537.520,533.760,549.650', '533.760,537.520,539.320,549.650',\n",
    "                        '539.320,537.520,544.880,549.650', '544.880,537.520,550.440,549.650',\n",
    "                        '550.440,537.520,556.000,549.650']"
   ]
  },
  {
   "cell_type": "code",
   "execution_count": 9,
   "metadata": {},
   "outputs": [
    {
     "name": "stdout",
     "output_type": "stream",
     "text": [
      "Rechnung invoice_1102068:\n",
      "1102068\n",
      "Jan16, 2020\n",
      "Feb15, 2020\n",
      "Rechnung invoice_1101128:\n",
      "1101128\n",
      "Jan 2, 2020\n",
      "Feb 1, 2020\n",
      "Rechnung invoice_1102070:\n",
      "1102070\n",
      "Jan16, 2020\n",
      "Feb15, 2020\n"
     ]
    }
   ],
   "source": [
    "# File names in Rechnung directory.\n",
    "for pdf in os.listdir(\"Rechnung\"):\n",
    "    if pdf.endswith(\".pdf\"):\n",
    "        os.system(f\"pdf2txt.py -o {pdf[:-4]}.txt -t xml  Rechnung/{pdf}\")\n",
    "        with open(f\"{pdf[:-4]}.txt\", 'r') as text:\n",
    "            print(f\"Rechnung {pdf[:-4]}:\")\n",
    "            text_str = text.read()\n",
    "            inv_no = ''\n",
    "            inv_date = ''\n",
    "            due_date = ''\n",
    "            for inv_no_pattern in inv_no_patterns:\n",
    "                cap = re.findall(f'bbox=\"{inv_no_pattern}\"\\ size=\"13\\.360\">([0-9])</text>', text_str)\n",
    "                cap_value = cap[0]\n",
    "                inv_no += cap_value\n",
    "            print(inv_no)\n",
    "            \n",
    "            for date_pattern in date_patterns:\n",
    "                cap = re.findall(f'bbox=\"{date_pattern}\"\\ size=\"12\\.130\">(.*?)</text>', text_str)\n",
    "                if len(cap) == 0:\n",
    "                    cap_value=''\n",
    "                else:\n",
    "                    cap_value = cap[0]\n",
    "                inv_date += cap_value\n",
    "            print(inv_date)\n",
    "            \n",
    "            for due_date_pattern in due_date_patterns:\n",
    "                cap = re.findall(f'bbox=\"{due_date_pattern}\"\\ size=\"12\\.130\">(.*?)</text>', text_str)\n",
    "                if len(cap) == 0:\n",
    "                    cap_value=''\n",
    "                else:\n",
    "                    cap_value = cap[0]\n",
    "                due_date += cap_value\n",
    "            print(due_date)\n",
    "            \n",
    "            \n",
    "        # Delete temp txt.\n",
    "        #os.system(f\"rm {pdf[:-4]}.txt\")"
   ]
  },
  {
   "cell_type": "code",
   "execution_count": 4,
   "metadata": {},
   "outputs": [
    {
     "data": {
      "text/plain": [
       "[]"
      ]
     },
     "execution_count": 4,
     "metadata": {},
     "output_type": "execute_result"
    }
   ],
   "source": [
    "re.findall('bbox=\"514\\.330,551\\.520,519\\.890,563\\.650\"\\ size=\"12\\.130\">(.*?)</text>', text_str)"
   ]
  }
 ],
 "metadata": {
  "kernelspec": {
   "display_name": "Python 3",
   "language": "python",
   "name": "python3"
  },
  "language_info": {
   "codemirror_mode": {
    "name": "ipython",
    "version": 3
   },
   "file_extension": ".py",
   "mimetype": "text/x-python",
   "name": "python",
   "nbconvert_exporter": "python",
   "pygments_lexer": "ipython3",
   "version": "3.8.2"
  }
 },
 "nbformat": 4,
 "nbformat_minor": 4
}
