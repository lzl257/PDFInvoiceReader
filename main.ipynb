{
 "cells": [
  {
   "cell_type": "code",
   "execution_count": 1,
   "metadata": {},
   "outputs": [],
   "source": [
    "import os\n",
    "import re\n",
    "import pandas as pd\n",
    "\n",
    "from pdfminer.pdfinterp import PDFPageInterpreter\n",
    "from pdfminer.pdfinterp import PDFResourceManager, PDFPageInterpreter\n",
    "from pdfminer.converter import TextConverter, PDFPageAggregator\n",
    "from pdfminer.layout import LAParams\n",
    "from pdfminer.pdfdevice import PDFDevice\n",
    "from pdfminer.pdfparser import PDFParser, PDFDocument"
   ]
  },
  {
   "cell_type": "code",
   "execution_count": 2,
   "metadata": {},
   "outputs": [],
   "source": [
    "fp=open(\"Rechnungen/rechnung1.pdf\",\"rb\")"
   ]
  },
  {
   "cell_type": "code",
   "execution_count": 3,
   "metadata": {},
   "outputs": [],
   "source": [
    "parser=PDFParser(fp)\n",
    "doc=PDFDocument()\n",
    "parser.set_document(doc)\n",
    "doc.set_parser(parser)\n",
    "\n",
    "doc.initialize(\"\")\n",
    "\n",
    "resource=PDFResourceManager()\n",
    "laparam=LAParams()\n",
    "\n",
    "device=PDFPageAggregator(resource,laparams=laparam)\n",
    "\n",
    "interpreter=PDFPageInterpreter(resource,device)"
   ]
  },
  {
   "cell_type": "code",
   "execution_count": 4,
   "metadata": {},
   "outputs": [
    {
     "name": "stdout",
     "output_type": "stream",
     "text": [
      "201955800\n"
     ]
    }
   ],
   "source": [
    "for page in doc.get_pages():\n",
    "    interpreter.process_page(page)\n",
    "    layout=device.get_result()\n",
    "    for out in layout:\n",
    "        if hasattr(out, 'get_text'):\n",
    "            captured = re.findall('^Rechnung\\ (.*?)$', out.get_text())\n",
    "            if len(captured) != 0:\n",
    "                print(captured[0])"
   ]
  }
 ],
 "metadata": {
  "kernelspec": {
   "display_name": "Python 3",
   "language": "python",
   "name": "python3"
  },
  "language_info": {
   "codemirror_mode": {
    "name": "ipython",
    "version": 3
   },
   "file_extension": ".py",
   "mimetype": "text/x-python",
   "name": "python",
   "nbconvert_exporter": "python",
   "pygments_lexer": "ipython3",
   "version": "3.8.2"
  }
 },
 "nbformat": 4,
 "nbformat_minor": 4
}
