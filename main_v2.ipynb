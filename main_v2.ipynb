{
 "cells": [
  {
   "cell_type": "code",
   "execution_count": 1,
   "metadata": {},
   "outputs": [],
   "source": [
    "import os\n",
    "import re"
   ]
  },
  {
   "cell_type": "code",
   "execution_count": 6,
   "metadata": {},
   "outputs": [
    {
     "name": "stdout",
     "output_type": "stream",
     "text": [
      "Rechnung invoice_1102068:\n",
      "Basic info ('1102068', 'Jan 16, 2020', 'Feb 15, 2020')\n",
      "Weight info 4,384 kg\n",
      "Credit info 4,176.40 EUR\n",
      "Rechnung invoice_1101128:\n",
      "Basic info ('1101128', 'Jan 2, 2020', 'Feb 1, 2020')\n",
      "Weight info 1,908 kg\n",
      "Credit info 1,908.00 EUR\n",
      "Rechnung invoice_1102070:\n",
      "Basic info ('1102070', 'Jan 16, 2020', 'Feb 15, 2020')\n",
      "Weight info 2,690 kg\n",
      "Credit info 2,366.50 EUR\n"
     ]
    }
   ],
   "source": [
    "# File names in Rechnung directory.\n",
    "for pdf in os.listdir(\"Rechnung\"):\n",
    "    if pdf.endswith(\".pdf\"):\n",
    "        os.system(f\"pdf2txt.py -o text_{pdf[:-4]}.txt -t text  Rechnung/{pdf}\")\n",
    "        with open(f\"text_{pdf[:-4]}.txt\", 'r') as text:\n",
    "            print(f\"Rechnung {pdf[:-4]}:\")\n",
    "            text_str = text.read()\n",
    "            cap_basic = re.findall('Page:\\\\n\\\\n(.*?)\\\\n(.*?)\\\\n(.*?)\\n1', text_str)\n",
    "            cap_weight = re.findall('Chargeable\\ weight\\\\n(.*?)\\\\n', text_str)\n",
    "            cap_total = re.findall('Total\\ amount\\ due\\\\n\\\\n(.*?)\\\\n', text_str)\n",
    "            \n",
    "            cap_dict = {\"Basic info\": cap_basic, \"Weight info\": cap_weight, \"Credit info\": cap_total}\n",
    "            for key, cap_content in cap_dict.items():                \n",
    "                if len(cap_content) != 0:\n",
    "                    cap_value = cap_content[0]\n",
    "                    print(key, cap_value)\n",
    "                else:\n",
    "                    print(f\"Capture for {key} failed. Please re-check!\")"
   ]
  },
  {
   "cell_type": "code",
   "execution_count": 3,
   "metadata": {},
   "outputs": [
    {
     "data": {
      "text/plain": [
       "[('1102070', 'Jan 16, 2020', 'Feb 15, 2020')]"
      ]
     },
     "execution_count": 3,
     "metadata": {},
     "output_type": "execute_result"
    }
   ],
   "source": [
    "re.findall('Page:\\\\n\\\\n(.*?)\\\\n(.*?)\\\\n(.*?)\\n1', text_str)"
   ]
  },
  {
   "cell_type": "code",
   "execution_count": 4,
   "metadata": {},
   "outputs": [
    {
     "data": {
      "text/plain": [
       "'SIO GmbH\\nAttn: B. Weng\\nDreieichstraße 12,\\n64546 Mörfelden-Walldorf\\nGermany\\n\\nYour VAT Reg No.:\\nCustomer number:\\n\\nDE280487247\\n031564\\n\\nShipment No.:\\nDeparture:\\nDestination:\\nFlight No.:\\nETD:\\n\\nAMS-AE-018944\\nAmsterdam\\nNanchang\\nCA 1070/09\\nJan 9, 2020\\n\\nInvoice\\n\\nInternational Airfreight Associates B.V.\\nCapronilaan 12 - 16\\n1119 NR Schiphol-Rijk\\nThe Netherlands\\nTelephone:\\nBankers:\\nIBAN EUR:\\nIBAN USD:\\nBIC / SWIFT:\\nVAT No.:\\n\\n+31-(0)88-0185555\\nABN AMRO Bank NV\\nNL90ABNA0243477767\\nNL81ABNA0243102054\\nABNANL2A\\nNL813557537B01\\n\\nInvoice number:\\nInvoice date:\\nInvoice due date:\\nPage:\\n\\n1102070\\nJan 16, 2020\\nFeb 15, 2020\\n1\\n\\n1 of\\n\\nYour Ref.:\\nAWB:\\nTerms:\\nShipper:\\nConsignee:\\n\\n580-20489044\\nEXW / Ex Works\\nSIO GmbH\\nCrystaI Language PupiL Wuhan\\nCN – wuhan\\n\\nPieces Weight\\n4\\n\\n2,690 kg\\n\\nChargeable weight\\n2,690 kg\\n\\nNature of goods\\nwine\\n\\nAirfreight\\nCCA charges\\n\\n2,286.50\\n80.00\\n\\nEUR\\nEUR\\n\\nPayment within 30 days\\n\\nTotal excl. VAT\\nVAT 0% of 2,366.50\\nTotal amount due\\n\\n2,366.50 EUR\\nEUR\\nEUR\\n\\n0.00\\n2,366.50\\n\\n\\x0c'"
      ]
     },
     "execution_count": 4,
     "metadata": {},
     "output_type": "execute_result"
    }
   ],
   "source": [
    "text_str"
   ]
  }
 ],
 "metadata": {
  "kernelspec": {
   "display_name": "Python 3",
   "language": "python",
   "name": "python3"
  },
  "language_info": {
   "codemirror_mode": {
    "name": "ipython",
    "version": 3
   },
   "file_extension": ".py",
   "mimetype": "text/x-python",
   "name": "python",
   "nbconvert_exporter": "python",
   "pygments_lexer": "ipython3",
   "version": "3.8.2"
  }
 },
 "nbformat": 4,
 "nbformat_minor": 4
}
